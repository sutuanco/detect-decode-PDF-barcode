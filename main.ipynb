{
 "cells": [
  {
   "cell_type": "code",
   "execution_count": 29,
   "metadata": {},
   "outputs": [],
   "source": [
    "import cv2 as cv\n",
    "import numpy as np\n",
    "import matplotlib.pyplot as plt\n",
    "from pypdf import PdfReader\n",
    "import zxing\n",
    "import pandas as pd\n",
    "%matplotlib inline"
   ]
  },
  {
   "cell_type": "code",
   "execution_count": 30,
   "metadata": {},
   "outputs": [],
   "source": [
    "pdf_link = \"file1.pdf\"\n",
    "reader = PdfReader(pdf_link)\n",
    "\n",
    "number_of_pages = len(reader.pages)\n",
    "page = reader.pages[0]\n",
    "text = page.extract_text()"
   ]
  },
  {
   "cell_type": "code",
   "execution_count": 31,
   "metadata": {},
   "outputs": [],
   "source": [
    "def process(page_number):\n",
    "    page = reader.pages[page_number]\n",
    "    text = page.extract_text()\n",
    "\n",
    "    texts = text.split('\\n')\n",
    "    col_1 = []\n",
    "    col_8 = []\n",
    "    for i in texts:\n",
    "        if str.isdecimal(i):\n",
    "            if (len(i) == 9):\n",
    "                col_1.append(i)\n",
    "            else:\n",
    "                col_8.append(i)\n",
    "\n",
    "    code_1 = []\n",
    "    code_2 = []\n",
    "    for item in range(len(col_8)):\n",
    "        code_1.append(col_8[item][0:6])\n",
    "        code_2.append(col_8[item][6:])  \n",
    "    \n",
    "    return col_1, code_1, code_2"
   ]
  },
  {
   "cell_type": "code",
   "execution_count": 32,
   "metadata": {},
   "outputs": [
    {
     "name": "stdout",
     "output_type": "stream",
     "text": [
      "46\n",
      "46\n",
      "46\n"
     ]
    }
   ],
   "source": [
    "col_1 = []\n",
    "code_1 = [] \n",
    "code_2 = []\n",
    "for i in range(number_of_pages):\n",
    "    a, b, c = process(i)\n",
    "    col_1 = col_1 + a\n",
    "    code_1 = code_1 + b\n",
    "    code_2 = code_2 + c\n",
    "\n",
    "\n",
    "print(len(col_1))\n",
    "print(len(code_1))\n",
    "print(len(code_2))"
   ]
  },
  {
   "cell_type": "code",
   "execution_count": 33,
   "metadata": {},
   "outputs": [],
   "source": [
    "import pypdfium2 as pdfium\n",
    "\n",
    "# Load a document\n",
    "pdf = pdfium.PdfDocument(pdf_link)\n",
    "\n",
    "# Loop over pages and render\n",
    "for i in range(len(pdf)):\n",
    "    page = pdf[i]\n",
    "    image = page.render(scale=4).to_pil()\n",
    "    image.save('pdf2jpg1/page'+ str(i) +'.jpg', 'JPEG')"
   ]
  },
  {
   "cell_type": "code",
   "execution_count": 34,
   "metadata": {},
   "outputs": [],
   "source": [
    "def blur_image(img):\n",
    "    img = cv.cvtColor(img, cv.COLOR_BGR2GRAY)\n",
    "    ret, img = cv.threshold(img, 100, 255, cv.THRESH_BINARY)\n",
    "    img = cv.blur(img, (10,10))\n",
    "    ret, img = cv.threshold(img, 230, 255, cv.THRESH_BINARY)\n",
    "    img = cv.blur(img, (5,5))\n",
    "    ret, img = cv.threshold(img, 230, 255, cv.THRESH_BINARY)\n",
    "    return img\n",
    "\n",
    "# a = blur_image(img)\n",
    "# plt.imshow(a, cmap='gray')"
   ]
  },
  {
   "cell_type": "code",
   "execution_count": 35,
   "metadata": {},
   "outputs": [],
   "source": [
    "def get_rectangle_position(img):\n",
    "    # Đọc ảnh gray scale\n",
    "    # img = cv.imread('th.jpg', cv.IMREAD_GRAYSCALE)\n",
    "    img = blur_image(img)\n",
    "\n",
    "    # Áp dụng ngưỡng nhị phân để chuyển ảnh thành ảnh nhị phân\n",
    "    _, thresh = cv.threshold(img, 127, 255, cv.THRESH_BINARY)\n",
    "\n",
    "    # Tìm các đường viền trong ảnh nhị phân\n",
    "    contours, _ = cv.findContours(thresh, cv.RETR_TREE, cv.CHAIN_APPROX_SIMPLE)\n",
    "\n",
    "    # Lọc ra các hình chữ nhật màu đen\n",
    "    rectangles = []\n",
    "    for contour in contours:\n",
    "        x, y, w, h = cv.boundingRect(contour)\n",
    "        if w > 50 and h > 50 and w < 0.9 * img.shape[1] and h < 0.9 * img.shape[0]:\n",
    "            roi = img[y:y+h, x:x+w]\n",
    "            if cv.mean(roi)[0] < 50:\n",
    "                rectangles.append((x, y, w, h))\n",
    "    \n",
    "    # # Vẽ các hình chữ nhật lên ảnh gốc\n",
    "    # img = cv.imread('th.jpg')\n",
    "    # for (x, y, w, h) in rectangles:\n",
    "    #     cv.rectangle(img, (x, y), (x+w, y+h), (0, 255, 0), 2)\n",
    "    # plt.imshow(img)\n",
    "    # cv.imwrite('th1.jpg', img)\n",
    "    rectangles.sort()\n",
    "    return rectangles"
   ]
  },
  {
   "cell_type": "code",
   "execution_count": 40,
   "metadata": {},
   "outputs": [
    {
     "name": "stdout",
     "output_type": "stream",
     "text": [
      "*bZm44Rz\n",
      "*bZqE/iE\n",
      "*bZjuJ4C\n",
      "*bZZbvJh\n",
      "*bZnhtKZ\n",
      "*bZSoQYG\n",
      "*bZTgYoA\n",
      "*bZmYGh4\n",
      "*bZlfNkQ\n",
      "*bZP2vJz\n",
      "*bZQ5GSX\n",
      "*bZXL+CX\n",
      "*bZKAXMj\n",
      "*bZl5f8T\n",
      "*bZl5f4S\n",
      "*bZUVZ6I\n",
      "*bZqcgKE\n",
      "*bZUVZ2J\n",
      "*bZQr6OZ\n",
      "*bZZYfpn\n",
      "*bZKs643\n",
      "*bZKs68x\n",
      "*bZeoV8V\n",
      "*bZUEUGE\n",
      "*bZJ9D0l\n",
      "*bZf28NC\n",
      "*bZeCGV5\n",
      "*bZSuo0D\n",
      "*bZbvKwi\n",
      "*bZKkdcy\n",
      "*bZVHpWC\n",
      "*bZn7UyR\n",
      "*bZaivdS\n",
      "*bZbUick\n",
      "*bZKbokg\n",
      "*bZJPMgj\n",
      "*bZWRU02\n",
      "*bZNp9MQ\n",
      "*bZNN09m\n",
      "*bZMCtVh\n",
      "*bZn9XWZ\n",
      "*bZI86om\n",
      "*bZYTA1m\n",
      "*bZSuowA\n",
      "*bZc7+h2\n",
      "*bZM3lBm\n"
     ]
    }
   ],
   "source": [
    "reader = zxing.BarCodeReader()\n",
    "barcode_detect_list = []\n",
    "for i in range(number_of_pages):\n",
    "    img = cv.imread(\"pdf2jpg/page\"+str(i)+\".jpg\")\n",
    "\n",
    "    rectangles = get_rectangle_position(img)\n",
    "    # print(rectangles)\n",
    "    for (x, y, w, h) in rectangles:\n",
    "        rs = ''\n",
    "        barcode = img[y:y+h, x:x+w,:]\n",
    "        ret, barcode = cv.threshold(barcode, 127, 255, cv.THRESH_BINARY)\n",
    "\n",
    "        cv.imwrite('cuongpc.jpg', barcode)\n",
    "\n",
    "        rs = reader.decode('cuongpc.jpg').raw   \n",
    "    \n",
    "        barcode_detect_list.append(rs)\n",
    "        print(rs)\n",
    "        # if len(detectedBarcodes) == 0:\n",
    "        #     barcode_detect_list.append('Fail')   \n",
    "        # else:\n",
    "        #     barcode_data = detectedBarcodes[0]\n",
    "        #     barcode_detect_list.append(barcode_data.data)\n",
    "\n",
    "    # cv.imwrite(\"pdf2jpg_out/page\"+str(i)+\".jpg\", img)"
   ]
  },
  {
   "cell_type": "code",
   "execution_count": 37,
   "metadata": {},
   "outputs": [],
   "source": [
    "data = {\n",
    "  \"col_1\": col_1,\n",
    "  \"code_1\": code_1,\n",
    "  \"code_2\": code_2,\n",
    "  \"barcode_detect_list\": barcode_detect_list,\n",
    "\n",
    "}\n",
    "df = pd.DataFrame(data)\n",
    "df.to_excel('output.xlsx')"
   ]
  }
 ],
 "metadata": {
  "kernelspec": {
   "display_name": ".venv",
   "language": "python",
   "name": "python3"
  },
  "language_info": {
   "codemirror_mode": {
    "name": "ipython",
    "version": 3
   },
   "file_extension": ".py",
   "mimetype": "text/x-python",
   "name": "python",
   "nbconvert_exporter": "python",
   "pygments_lexer": "ipython3",
   "version": "3.9.0"
  },
  "orig_nbformat": 4
 },
 "nbformat": 4,
 "nbformat_minor": 2
}
